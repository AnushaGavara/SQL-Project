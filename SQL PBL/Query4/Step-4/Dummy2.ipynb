{
 "cells": [
  {
   "cell_type": "code",
   "execution_count": null,
   "metadata": {},
   "outputs": [
    {
     "ename": "",
     "evalue": "",
     "output_type": "error",
     "traceback": [
      "\u001b[1;31mRunning cells with 'e:\\21331A0557\\Sem_5\\DBMS LAB\\PBL\\Query4\\.conda\\python.exe' requires the ipykernel package.\n",
      "\u001b[1;31mRun the following command to install 'ipykernel' into the Python environment. \n",
      "\u001b[1;31mCommand: 'conda install -p e:\\21331A0557\\Sem_5\\DBMS LAB\\PBL\\Query4\\.conda ipykernel --update-deps --force-reinstall'"
     ]
    }
   ],
   "source": [
    "pip install mysql.connector"
   ]
  }
 ],
 "metadata": {
  "kernelspec": {
   "display_name": "Python 3",
   "language": "python",
   "name": "python3"
  },
  "language_info": {
   "name": "python",
   "version": "3.10.13"
  },
  "orig_nbformat": 4
 },
 "nbformat": 4,
 "nbformat_minor": 2
}
